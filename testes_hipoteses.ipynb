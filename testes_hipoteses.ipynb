{
  "cells": [
    {
      "cell_type": "markdown",
      "metadata": {
        "colab_type": "text",
        "id": "view-in-github"
      },
      "source": [
        "<a href=\"https://colab.research.google.com/github/fernandovieira1/estat_ML/blob/main/testes_hipoteses.ipynb\" target=\"_parent\"><img src=\"https://colab.research.google.com/assets/colab-badge.svg\" alt=\"Open In Colab\"/></a>"
      ]
    },
    {
      "cell_type": "markdown",
      "metadata": {
        "id": "h5qRUt5ZgK51"
      },
      "source": [
        "# Testes de hipóteses"
      ]
    },
    {
      "cell_type": "markdown",
      "metadata": {
        "id": "aEfXkCY5gNEo"
      },
      "source": [
        "## Bibliotecas"
      ]
    },
    {
      "cell_type": "code",
      "execution_count": 1,
      "metadata": {
        "id": "gDmhIdcdgkct"
      },
      "outputs": [],
      "source": [
        "import numpy as np\n",
        "import math\n",
        "from scipy.stats import norm"
      ]
    },
    {
      "cell_type": "markdown",
      "metadata": {
        "id": "7J-4fmAMgOxN"
      },
      "source": [
        "## Base de dados"
      ]
    },
    {
      "cell_type": "code",
      "execution_count": 2,
      "metadata": {
        "id": "-V59vl3xgKYZ"
      },
      "outputs": [],
      "source": [
        "dados_originais = np.array([126. , 129.5, 133. , 133. , 136.5, 136.5, 140. , 140. , 140. ,\n",
        "                            140. , 143.5, 143.5, 143.5, 143.5, 143.5, 143.5, 147. , 147. ,\n",
        "                            147. , 147. , 147. , 147. , 147. , 150.5, 150.5, 150.5, 150.5,\n",
        "                            150.5, 150.5, 150.5, 150.5, 154. , 154. , 154. , 154. , 154. ,\n",
        "                            154. , 154. , 154. , 154. , 157.5, 157.5, 157.5, 157.5, 157.5,\n",
        "                            157.5, 157.5, 157.5, 157.5, 157.5, 161. , 161. , 161. , 161. ,\n",
        "                            161. , 161. , 161. , 161. , 161. , 161. , 164.5, 164.5, 164.5,\n",
        "                            164.5, 164.5, 164.5, 164.5, 164.5, 164.5, 168. , 168. , 168. ,\n",
        "                            168. , 168. , 168. , 168. , 168. , 171.5, 171.5, 171.5, 171.5,\n",
        "                            171.5, 171.5, 171.5, 175. , 175. , 175. , 175. , 175. , 175. ,\n",
        "                            178.5, 178.5, 178.5, 178.5, 182. , 182. , 185.5, 185.5, 189., 192.5])"
      ]
    },
    {
      "cell_type": "code",
      "execution_count": 3,
      "metadata": {
        "colab": {
          "base_uri": "https://localhost:8080/",
          "height": 55
        },
        "id": "ruRtK-Gp6uma",
        "outputId": "0ab41355-5108-438d-cb64-9fa5a83724c7"
      },
      "outputs": [
        {
          "data": {
            "text/plain": [
              "159.25"
            ]
          },
          "execution_count": 3,
          "metadata": {},
          "output_type": "execute_result"
        }
      ],
      "source": [
        "H0_media = np.mean(dados_originais)\n",
        "H0_media"
      ]
    },
    {
      "cell_type": "code",
      "execution_count": 4,
      "metadata": {
        "colab": {
          "base_uri": "https://localhost:8080/",
          "height": 55
        },
        "id": "upQL-91k64mk",
        "outputId": "fb33fea1-41fe-4079-b078-5fd6cf53648f"
      },
      "outputs": [
        {
          "data": {
            "text/plain": [
              "13.65"
            ]
          },
          "execution_count": 4,
          "metadata": {},
          "output_type": "execute_result"
        }
      ],
      "source": [
        "H0_desvio_padrao = np.std(dados_originais)\n",
        "H0_desvio_padrao"
      ]
    },
    {
      "cell_type": "code",
      "execution_count": 5,
      "metadata": {
        "colab": {
          "base_uri": "https://localhost:8080/",
          "height": 301
        },
        "id": "zXLAGCza7IyF",
        "outputId": "8d265941-4967-422e-923e-b3aa0e9f6434"
      },
      "outputs": [
        {
          "data": {
            "text/plain": [
              "array([129.78 , 133.385, 136.99 , 136.99 , 140.595, 140.595, 144.2  ,\n",
              "       144.2  , 144.2  , 144.2  , 147.805, 147.805, 147.805, 147.805,\n",
              "       147.805, 147.805, 151.41 , 151.41 , 151.41 , 151.41 , 151.41 ,\n",
              "       151.41 , 151.41 , 155.015, 155.015, 155.015, 155.015, 155.015,\n",
              "       155.015, 155.015, 155.015, 158.62 , 158.62 , 158.62 , 158.62 ,\n",
              "       158.62 , 158.62 , 158.62 , 158.62 , 158.62 , 162.225, 162.225,\n",
              "       162.225, 162.225, 162.225, 162.225, 162.225, 162.225, 162.225,\n",
              "       162.225, 165.83 , 165.83 , 165.83 , 165.83 , 165.83 , 165.83 ,\n",
              "       165.83 , 165.83 , 165.83 , 165.83 , 169.435, 169.435, 169.435,\n",
              "       169.435, 169.435, 169.435, 169.435, 169.435, 169.435, 173.04 ,\n",
              "       173.04 , 173.04 , 173.04 , 173.04 , 173.04 , 173.04 , 173.04 ,\n",
              "       176.645, 176.645, 176.645, 176.645, 176.645, 176.645, 176.645,\n",
              "       180.25 , 180.25 , 180.25 , 180.25 , 180.25 , 180.25 , 183.855,\n",
              "       183.855, 183.855, 183.855, 187.46 , 187.46 , 191.065, 191.065,\n",
              "       194.67 , 198.275])"
            ]
          },
          "execution_count": 5,
          "metadata": {},
          "output_type": "execute_result"
        }
      ],
      "source": [
        "dados_novos = dados_originais * 1.03\n",
        "dados_novos"
      ]
    },
    {
      "cell_type": "code",
      "execution_count": 6,
      "metadata": {
        "colab": {
          "base_uri": "https://localhost:8080/",
          "height": 55
        },
        "id": "qTrj4pV77ejV",
        "outputId": "9d8e8ef8-2064-4a75-8e2a-34ef98658d25"
      },
      "outputs": [
        {
          "data": {
            "text/plain": [
              "164.0275"
            ]
          },
          "execution_count": 6,
          "metadata": {},
          "output_type": "execute_result"
        }
      ],
      "source": [
        "H1_media = np.mean(dados_novos)\n",
        "H1_media"
      ]
    },
    {
      "cell_type": "code",
      "execution_count": 7,
      "metadata": {
        "colab": {
          "base_uri": "https://localhost:8080/",
          "height": 55
        },
        "id": "-JRYkFbd7ly7",
        "outputId": "d53e15dc-eca9-437b-a8aa-84c8b5f580e1"
      },
      "outputs": [
        {
          "data": {
            "text/plain": [
              "14.0595"
            ]
          },
          "execution_count": 7,
          "metadata": {},
          "output_type": "execute_result"
        }
      ],
      "source": [
        "H1_desvio_padrao = np.std(dados_novos)\n",
        "H1_desvio_padrao"
      ]
    },
    {
      "cell_type": "code",
      "execution_count": 8,
      "metadata": {
        "colab": {
          "base_uri": "https://localhost:8080/",
          "height": 55
        },
        "id": "h0Fkkf_M7utP",
        "outputId": "e101a3c3-458e-478f-9043-1c8bd54118b0"
      },
      "outputs": [
        {
          "data": {
            "text/plain": [
              "100"
            ]
          },
          "execution_count": 8,
          "metadata": {},
          "output_type": "execute_result"
        }
      ],
      "source": [
        "H1_n = len(dados_novos)\n",
        "H1_n"
      ]
    },
    {
      "cell_type": "code",
      "execution_count": 9,
      "metadata": {
        "id": "APafnv4p7zGS"
      },
      "outputs": [],
      "source": [
        "alpha = 0.05"
      ]
    },
    {
      "cell_type": "markdown",
      "metadata": {
        "id": "UwWCFWVPhDsW"
      },
      "source": [
        "## Teste de hipótese Z"
      ]
    },
    {
      "cell_type": "markdown",
      "metadata": {
        "id": "2lAfmexBlVYO"
      },
      "source": [
        "### Teste manual"
      ]
    },
    {
      "cell_type": "code",
      "execution_count": 10,
      "metadata": {
        "colab": {
          "base_uri": "https://localhost:8080/",
          "height": 55
        },
        "id": "Iv04ntsG8ACH",
        "outputId": "3210de83-b370-4518-905d-bb1cc171e162"
      },
      "outputs": [
        {
          "data": {
            "text/plain": [
              "3.398058252427187"
            ]
          },
          "execution_count": 10,
          "metadata": {},
          "output_type": "execute_result"
        }
      ],
      "source": [
        "Z = (H1_media - H0_media) / (H1_desvio_padrao / math.sqrt(H1_n))\n",
        "Z"
      ]
    },
    {
      "cell_type": "code",
      "execution_count": 11,
      "metadata": {
        "colab": {
          "base_uri": "https://localhost:8080/",
          "height": 55
        },
        "id": "5M9Wlv-48N9z",
        "outputId": "bb5685f3-aaf1-4793-9b6e-f6a31e24356d"
      },
      "outputs": [
        {
          "data": {
            "text/plain": [
              "(0.9996606701617486, 3.3980582524271936)"
            ]
          },
          "execution_count": 11,
          "metadata": {},
          "output_type": "execute_result"
        }
      ],
      "source": [
        "norm.cdf(3.398058252427187), norm.ppf(0.9996606701617486)"
      ]
    },
    {
      "cell_type": "code",
      "execution_count": 12,
      "metadata": {
        "colab": {
          "base_uri": "https://localhost:8080/",
          "height": 55
        },
        "id": "VSuwpvNg8cTe",
        "outputId": "b2f1b23c-210c-454d-9526-14b16415ced0"
      },
      "outputs": [
        {
          "data": {
            "text/plain": [
              "0.9996606701617486"
            ]
          },
          "execution_count": 12,
          "metadata": {},
          "output_type": "execute_result"
        }
      ],
      "source": [
        "Z = norm.cdf(Z)\n",
        "Z"
      ]
    },
    {
      "cell_type": "code",
      "execution_count": null,
      "metadata": {},
      "outputs": [],
      "source": [
        "# Se do lado direito da distribuição, subtrair 1 - Z"
      ]
    },
    {
      "cell_type": "code",
      "execution_count": 13,
      "metadata": {
        "colab": {
          "base_uri": "https://localhost:8080/",
          "height": 55
        },
        "id": "msFP3E9H8i3e",
        "outputId": "de9f99ce-240a-4134-b062-4240a0a76f58"
      },
      "outputs": [
        {
          "data": {
            "text/plain": [
              "0.00033932983825135654"
            ]
          },
          "execution_count": 13,
          "metadata": {},
          "output_type": "execute_result"
        }
      ],
      "source": [
        "p = 1 - Z\n",
        "p"
      ]
    },
    {
      "cell_type": "code",
      "execution_count": 14,
      "metadata": {
        "colab": {
          "base_uri": "https://localhost:8080/",
          "height": 55
        },
        "id": "xU9Pz1WZ8wS0",
        "outputId": "48aa1ca3-6c3e-45a1-bc72-9548852edb4e"
      },
      "outputs": [
        {
          "name": "stdout",
          "output_type": "stream",
          "text": [
            "Hipótese nula rejeitada\n"
          ]
        }
      ],
      "source": [
        "if p < alpha:\n",
        "  print('Hipótese nula rejeitada')\n",
        "else:\n",
        "  print('Hipótese alternativa rejeitada')"
      ]
    },
    {
      "cell_type": "markdown",
      "metadata": {
        "id": "idYPxxbylXIN"
      },
      "source": [
        "### Teste com o statsmodels\n",
        "\n",
        "- https://www.statsmodels.org/devel/generated/statsmodels.stats.weightstats.ztest.html"
      ]
    },
    {
      "cell_type": "code",
      "execution_count": 15,
      "metadata": {
        "id": "6N7L5L1Y8-Mr"
      },
      "outputs": [],
      "source": [
        "from statsmodels.stats.weightstats import ztest"
      ]
    },
    {
      "cell_type": "code",
      "execution_count": 16,
      "metadata": {
        "id": "3EChzbmV9LSt"
      },
      "outputs": [],
      "source": [
        "_, p = ztest(dados_originais, dados_novos, # _ para não mostrar tstat, apenas o pvalue (p)\n",
        "             value = H1_media - H0_media, # não precisa colocar a média, basta os dados originais\n",
        "             alternative='larger') # nossa hipótese é de que a média é maior "
      ]
    },
    {
      "cell_type": "code",
      "execution_count": 17,
      "metadata": {
        "colab": {
          "base_uri": "https://localhost:8080/",
          "height": 55
        },
        "id": "onr7l1ar9ok1",
        "outputId": "f5a70e8b-aa65-47f4-ea69-f7427a9806c6"
      },
      "outputs": [
        {
          "data": {
            "text/plain": [
              "0.9999993877283934"
            ]
          },
          "execution_count": 17,
          "metadata": {},
          "output_type": "execute_result"
        }
      ],
      "source": [
        "p"
      ]
    },
    {
      "cell_type": "markdown",
      "metadata": {},
      "source": [
        "**Teste T**\n",
        "\n",
        "Fernando"
      ]
    },
    {
      "cell_type": "code",
      "execution_count": 18,
      "metadata": {},
      "outputs": [],
      "source": [
        "df = np.array([149. , 160., 147., 189., 175., 168., 156., 160., 152.])"
      ]
    },
    {
      "cell_type": "code",
      "execution_count": 21,
      "metadata": {},
      "outputs": [
        {
          "data": {
            "text/plain": [
              "161.77777777777777"
            ]
          },
          "execution_count": 21,
          "metadata": {},
          "output_type": "execute_result"
        }
      ],
      "source": [
        "df.mean()"
      ]
    },
    {
      "cell_type": "code",
      "execution_count": 22,
      "metadata": {},
      "outputs": [
        {
          "data": {
            "text/plain": [
              "12.786953227391823"
            ]
          },
          "execution_count": 22,
          "metadata": {},
          "output_type": "execute_result"
        }
      ],
      "source": [
        "np.std(df)"
      ]
    },
    {
      "cell_type": "markdown",
      "metadata": {},
      "source": [
        "Crie uma nova variável também com alturas de 9 pessoas, porém, com valores diferentes\n"
      ]
    },
    {
      "cell_type": "code",
      "execution_count": 19,
      "metadata": {},
      "outputs": [],
      "source": [
        "df2 = df*1.021"
      ]
    },
    {
      "cell_type": "code",
      "execution_count": 23,
      "metadata": {},
      "outputs": [
        {
          "data": {
            "text/plain": [
              "165.1751111111111"
            ]
          },
          "execution_count": 23,
          "metadata": {},
          "output_type": "execute_result"
        }
      ],
      "source": [
        "df2.mean()"
      ]
    },
    {
      "cell_type": "code",
      "execution_count": 24,
      "metadata": {},
      "outputs": [
        {
          "data": {
            "text/plain": [
              "13.055479245167055"
            ]
          },
          "execution_count": 24,
          "metadata": {},
          "output_type": "execute_result"
        }
      ],
      "source": [
        "np.std(df2)"
      ]
    },
    {
      "cell_type": "code",
      "execution_count": 20,
      "metadata": {},
      "outputs": [],
      "source": [
        "from scipy.stats import ttest_rel"
      ]
    },
    {
      "cell_type": "code",
      "execution_count": 34,
      "metadata": {},
      "outputs": [
        {
          "data": {
            "text/plain": [
              "4.0729224939301966e-10"
            ]
          },
          "execution_count": 34,
          "metadata": {},
          "output_type": "execute_result"
        }
      ],
      "source": [
        "_, p = ttest_rel(df, df2)\n",
        "p"
      ]
    },
    {
      "cell_type": "code",
      "execution_count": null,
      "metadata": {},
      "outputs": [],
      "source": [
        "# H0: a média é df.mean()\n",
        "# H1: a média é df2.mean()"
      ]
    },
    {
      "cell_type": "code",
      "execution_count": 35,
      "metadata": {},
      "outputs": [
        {
          "name": "stdout",
          "output_type": "stream",
          "text": [
            "Hipótese nula rejeitada\n"
          ]
        }
      ],
      "source": [
        "alpha = 0.01\n",
        "if p <= alpha:\n",
        "  print('Hipótese nula rejeitada')\n",
        "else:\n",
        "  print('Hipótese alternativa rejeitada')"
      ]
    },
    {
      "cell_type": "markdown",
      "metadata": {
        "id": "HIOVlwTfEBuS"
      },
      "source": [
        "**Teste T**\n",
        "\n",
        "Professor"
      ]
    },
    {
      "cell_type": "code",
      "execution_count": 26,
      "metadata": {
        "id": "kAMY4K8ZEEBI"
      },
      "outputs": [],
      "source": [
        "dados_originais = np.array([149. , 160., 147., 189., 175., 168., 156., 160., 152.])"
      ]
    },
    {
      "cell_type": "code",
      "execution_count": 27,
      "metadata": {
        "colab": {
          "base_uri": "https://localhost:8080/",
          "height": 55
        },
        "id": "YP127AI0EMhb",
        "outputId": "01c60c9b-b229-4566-b264-1a494c6f8f93"
      },
      "outputs": [
        {
          "data": {
            "text/plain": [
              "(161.77777777777777, 12.786953227391823)"
            ]
          },
          "execution_count": 27,
          "metadata": {},
          "output_type": "execute_result"
        }
      ],
      "source": [
        "dados_originais.mean(), np.std(dados_originais)"
      ]
    },
    {
      "cell_type": "code",
      "execution_count": 28,
      "metadata": {
        "colab": {
          "base_uri": "https://localhost:8080/",
          "height": 72
        },
        "id": "vV32oNM9EXOz",
        "outputId": "12b6c5ec-ee60-44f2-cab1-e653c42a982c"
      },
      "outputs": [
        {
          "data": {
            "text/plain": [
              "array([151.98, 163.2 , 149.94, 192.78, 178.5 , 171.36, 159.12, 163.2 ,\n",
              "       155.04])"
            ]
          },
          "execution_count": 28,
          "metadata": {},
          "output_type": "execute_result"
        }
      ],
      "source": [
        "dados_novos = dados_originais * 1.02\n",
        "dados_novos"
      ]
    },
    {
      "cell_type": "code",
      "execution_count": 29,
      "metadata": {
        "colab": {
          "base_uri": "https://localhost:8080/",
          "height": 55
        },
        "id": "exE0GEQvEgbb",
        "outputId": "51e4f09f-1ca0-4430-a80e-b61e6d6be88f"
      },
      "outputs": [
        {
          "data": {
            "text/plain": [
              "(165.01333333333332, 13.042692291939664)"
            ]
          },
          "execution_count": 29,
          "metadata": {},
          "output_type": "execute_result"
        }
      ],
      "source": [
        "dados_novos.mean(), np.std(dados_novos)"
      ]
    },
    {
      "cell_type": "code",
      "execution_count": 30,
      "metadata": {
        "id": "XoeXKto2E414"
      },
      "outputs": [],
      "source": [
        "from scipy.stats import ttest_rel"
      ]
    },
    {
      "cell_type": "code",
      "execution_count": 31,
      "metadata": {
        "colab": {
          "base_uri": "https://localhost:8080/",
          "height": 55
        },
        "id": "GXTK8ZfnE76T",
        "outputId": "562bfc10-ca91-49ad-b47c-1d8868f2cb57"
      },
      "outputs": [
        {
          "data": {
            "text/plain": [
              "4.072922493930298e-10"
            ]
          },
          "execution_count": 31,
          "metadata": {},
          "output_type": "execute_result"
        }
      ],
      "source": [
        "_, p = ttest_rel(dados_originais, dados_novos)\n",
        "p"
      ]
    },
    {
      "cell_type": "code",
      "execution_count": 32,
      "metadata": {
        "colab": {
          "base_uri": "https://localhost:8080/",
          "height": 55
        },
        "id": "1jLWGcIPFGt2",
        "outputId": "e0792f26-8211-4e20-e2c0-cdd0d99ce6d1"
      },
      "outputs": [
        {
          "name": "stdout",
          "output_type": "stream",
          "text": [
            "Hipótese nula rejeitada\n"
          ]
        }
      ],
      "source": [
        "alpha = 0.01\n",
        "if p <= alpha:\n",
        "  print('Hipótese nula rejeitada')\n",
        "else:\n",
        "  print('Hipótese alternativa rejeitada')"
      ]
    },
    {
      "cell_type": "markdown",
      "metadata": {
        "id": "eljAcODhBZSb"
      },
      "source": [
        "## Teste qui quadrado\n",
        "\n",
        "-https://docs.scipy.org/doc/scipy/reference/generated/scipy.stats.chi2_contingency.html"
      ]
    },
    {
      "cell_type": "code",
      "execution_count": null,
      "metadata": {
        "id": "dLi7JfMIBaQA"
      },
      "outputs": [],
      "source": [
        "from scipy.stats import chi2_contingency"
      ]
    },
    {
      "cell_type": "code",
      "execution_count": null,
      "metadata": {
        "id": "Hk7lnGCwBwvF"
      },
      "outputs": [],
      "source": [
        "#tabela = np.array([[30, 20], [22, 28]])\n",
        "tabela = np.array([[45, 5], [5, 45]])"
      ]
    },
    {
      "cell_type": "code",
      "execution_count": null,
      "metadata": {
        "colab": {
          "base_uri": "https://localhost:8080/",
          "height": 55
        },
        "id": "j9dSdX1ZCAh9",
        "outputId": "324c1434-1faf-4c6e-f26c-184b774c3264"
      },
      "outputs": [],
      "source": [
        "tabela.shape"
      ]
    },
    {
      "cell_type": "code",
      "execution_count": null,
      "metadata": {
        "colab": {
          "base_uri": "https://localhost:8080/",
          "height": 55
        },
        "id": "8nj9bJ1XCDrR",
        "outputId": "212ec7a6-b8dd-4784-809e-e20889dc9c2b"
      },
      "outputs": [],
      "source": [
        "_, p, _, _ = chi2_contingency(tabela)\n",
        "p"
      ]
    },
    {
      "cell_type": "code",
      "execution_count": null,
      "metadata": {
        "colab": {
          "base_uri": "https://localhost:8080/",
          "height": 55
        },
        "id": "KWQFR6zaChAq",
        "outputId": "b4988509-df66-4625-ccef-f51bae60d5d6"
      },
      "outputs": [],
      "source": [
        "alpha = 0.05\n",
        "if p <= alpha:\n",
        "  print('Hipótese nula rejeitada')\n",
        "else:\n",
        "  print('Hipótese alternativa rejeitada')"
      ]
    },
    {
      "cell_type": "markdown",
      "metadata": {
        "id": "AzsT7X60Dhz2"
      },
      "source": [
        "## Seleção de atributos com testes de hipóteses - univariate SelectFdr\n",
        "\n",
        "Testes estatísticos univariados são aqueles que envolvem uma variável dependente, por exemplo, teste t ou teste z para comparação de médias\n",
        "\n",
        "Documentação: https://scikit-learn.org/stable/modules/generated/sklearn.feature_selection.SelectFpr.html#sklearn.feature_selection.SelectFpr\n",
        "\n",
        "False discovery rate: https://en.wikipedia.org/wiki/False_discovery_rate\n",
        "\n",
        "Proporção esperada de erros do tipo I. Um erro do tipo I é quando a hipótese nula é rejeitada incorretamente, ou seja, é obtido um falso positivo\n",
        "\n",
        "Erro I: https://www.statisticshowto.datasciencecentral.com/probability-and-statistics/statistics-definitions/type-i-error-type-ii-error-decision/"
      ]
    },
    {
      "cell_type": "code",
      "execution_count": null,
      "metadata": {
        "id": "rTd0jRoTDiu5"
      },
      "outputs": [],
      "source": [
        "import pandas as pd\n",
        "import numpy as np\n",
        "from sklearn.feature_selection import SelectFdr\n",
        "from sklearn.feature_selection import chi2\n",
        "from sklearn.naive_bayes import GaussianNB\n",
        "from sklearn.metrics import accuracy_score"
      ]
    },
    {
      "cell_type": "code",
      "execution_count": null,
      "metadata": {
        "colab": {
          "base_uri": "https://localhost:8080/",
          "height": 257
        },
        "id": "vCyFK8w4FdWt",
        "outputId": "5431c858-8e1a-4677-cb00-b636f03a91dd"
      },
      "outputs": [],
      "source": [
        "dataset = pd.read_csv('ad.data', header=None)\n",
        "dataset.head()"
      ]
    },
    {
      "cell_type": "code",
      "execution_count": null,
      "metadata": {
        "colab": {
          "base_uri": "https://localhost:8080/",
          "height": 55
        },
        "id": "oMeJN0CxF8zT",
        "outputId": "4617c369-2b33-4ccf-fab8-7e923816d3b7"
      },
      "outputs": [],
      "source": [
        "dataset.shape"
      ]
    },
    {
      "cell_type": "code",
      "execution_count": null,
      "metadata": {
        "colab": {
          "base_uri": "https://localhost:8080/",
          "height": 160
        },
        "id": "WB4Us7TSGRQa",
        "outputId": "6181ea1e-fc74-4dc8-ac5b-8ee2217e2e1d"
      },
      "outputs": [],
      "source": [
        "X = dataset.iloc[:, 0:1558].values\n",
        "X"
      ]
    },
    {
      "cell_type": "code",
      "execution_count": null,
      "metadata": {
        "colab": {
          "base_uri": "https://localhost:8080/",
          "height": 72
        },
        "id": "19jmEwA0GZEY",
        "outputId": "7c007811-442c-435f-907b-171682043ca0"
      },
      "outputs": [],
      "source": [
        "y = dataset.iloc[:, 1558].values\n",
        "y"
      ]
    },
    {
      "cell_type": "code",
      "execution_count": null,
      "metadata": {
        "colab": {
          "base_uri": "https://localhost:8080/",
          "height": 55
        },
        "id": "H_kbP6SZGeoE",
        "outputId": "735c3171-96c8-4aee-ac17-96a03c13197f"
      },
      "outputs": [],
      "source": [
        "np.unique(y, return_counts=True)"
      ]
    },
    {
      "cell_type": "markdown",
      "metadata": {
        "id": "0bbgtf7JgTD_"
      },
      "source": [
        "### Sem seleção de atributos"
      ]
    },
    {
      "cell_type": "code",
      "execution_count": null,
      "metadata": {
        "colab": {
          "base_uri": "https://localhost:8080/",
          "height": 55
        },
        "id": "sGCjtf-UGqav",
        "outputId": "09f757ca-aad5-4145-98aa-67f7a6ebbe2f"
      },
      "outputs": [],
      "source": [
        "naive1 = GaussianNB()\n",
        "naive1.fit(X, y)\n",
        "previsoes1 = naive1.predict(X)\n",
        "accuracy_score(y, previsoes1)"
      ]
    },
    {
      "cell_type": "markdown",
      "metadata": {
        "id": "5RAh67rcgV5m"
      },
      "source": [
        "### Seleção de atributos com Qui Quadrado"
      ]
    },
    {
      "cell_type": "code",
      "execution_count": null,
      "metadata": {
        "id": "aPeWwe1UG3Sb"
      },
      "outputs": [],
      "source": [
        "selecao = SelectFdr(chi2, alpha=0.01)\n",
        "X_novo = selecao.fit_transform(X, y)"
      ]
    },
    {
      "cell_type": "code",
      "execution_count": null,
      "metadata": {
        "colab": {
          "base_uri": "https://localhost:8080/",
          "height": 55
        },
        "id": "8CR6iYuSHwe2",
        "outputId": "243e0621-f551-4486-fb5c-0060359268b0"
      },
      "outputs": [],
      "source": [
        "X.shape, X_novo.shape"
      ]
    },
    {
      "cell_type": "code",
      "execution_count": null,
      "metadata": {
        "colab": {
          "base_uri": "https://localhost:8080/",
          "height": 72
        },
        "id": "NkNuFBn4H4Ih",
        "outputId": "d8d3db7f-0dfe-4855-8614-555ba338bdab"
      },
      "outputs": [],
      "source": [
        "selecao.pvalues_, len(selecao.pvalues_)"
      ]
    },
    {
      "cell_type": "code",
      "execution_count": null,
      "metadata": {
        "colab": {
          "base_uri": "https://localhost:8080/",
          "height": 55
        },
        "id": "WVPcbq1OIs8q",
        "outputId": "9361c238-7c54-4442-bacf-f3164086800f"
      },
      "outputs": [],
      "source": [
        "np.sum(selecao.pvalues_ <= 0.01)"
      ]
    },
    {
      "cell_type": "code",
      "execution_count": null,
      "metadata": {
        "colab": {
          "base_uri": "https://localhost:8080/",
          "height": 55
        },
        "id": "XXJmcVHlJMSI",
        "outputId": "8258322b-f58a-4048-a98e-cd1eb1956f18"
      },
      "outputs": [],
      "source": [
        "colunas = selecao.get_support()\n",
        "colunas"
      ]
    },
    {
      "cell_type": "code",
      "execution_count": null,
      "metadata": {
        "colab": {
          "base_uri": "https://localhost:8080/",
          "height": 741
        },
        "id": "oAVwiobFJThY",
        "outputId": "bb39554c-3e93-4aab-f154-dc04c4a411bc"
      },
      "outputs": [],
      "source": [
        "indices = np.where(colunas == True)\n",
        "indices"
      ]
    },
    {
      "cell_type": "code",
      "execution_count": null,
      "metadata": {
        "colab": {
          "base_uri": "https://localhost:8080/",
          "height": 55
        },
        "id": "n3L0X3vHJeEl",
        "outputId": "a7bced0a-277a-4198-8ea7-45f252fbcc30"
      },
      "outputs": [],
      "source": [
        "naive2 = GaussianNB()\n",
        "naive2.fit(X_novo, y)\n",
        "previsoes2 = naive2.predict(X_novo)\n",
        "accuracy_score(y, previsoes2)"
      ]
    },
    {
      "cell_type": "markdown",
      "metadata": {
        "id": "nxltqtRagaI7"
      },
      "source": [
        "### Seleção de atributos com ANOVA"
      ]
    },
    {
      "cell_type": "code",
      "execution_count": null,
      "metadata": {
        "id": "sLpv1dGTgo7E"
      },
      "outputs": [],
      "source": [
        "#from sklearn.feature_selection import f_classif -- atualizado 10/08/2021\n",
        "from sklearn.feature_selection import SelectFdr, f_classif"
      ]
    },
    {
      "cell_type": "code",
      "execution_count": null,
      "metadata": {
        "id": "EYR9G7uBgce7"
      },
      "outputs": [],
      "source": [
        "selecao = SelectFdr(f_classif, alpha = 0.01)\n",
        "X_novo_2 = selecao.fit_transform(X, y)"
      ]
    },
    {
      "cell_type": "code",
      "execution_count": null,
      "metadata": {
        "colab": {
          "base_uri": "https://localhost:8080/",
          "height": 55
        },
        "id": "Pq5OgLIaggBB",
        "outputId": "c2233706-03ab-40f2-d94e-fdf6762bdf5d"
      },
      "outputs": [],
      "source": [
        "X.shape, X_novo.shape, X_novo_2.shape"
      ]
    },
    {
      "cell_type": "code",
      "execution_count": null,
      "metadata": {
        "colab": {
          "base_uri": "https://localhost:8080/",
          "height": 72
        },
        "id": "I6KqESvdghs7",
        "outputId": "cbe48137-6f7e-4a26-85b3-632a4a4e7296"
      },
      "outputs": [],
      "source": [
        "selecao.pvalues_"
      ]
    },
    {
      "cell_type": "code",
      "execution_count": null,
      "metadata": {
        "colab": {
          "base_uri": "https://localhost:8080/",
          "height": 55
        },
        "id": "uJQWGRL7ghm_",
        "outputId": "8c63f2b1-1da7-45c6-81ac-55a0116ca42c"
      },
      "outputs": [],
      "source": [
        "np.sum(selecao.pvalues_ < 0.01)"
      ]
    },
    {
      "cell_type": "code",
      "execution_count": null,
      "metadata": {
        "colab": {
          "base_uri": "https://localhost:8080/",
          "height": 55
        },
        "id": "3uR2Sy0uglCZ",
        "outputId": "6c85a706-41f8-45b3-cad9-1e18f66619c0"
      },
      "outputs": [],
      "source": [
        "naive3 = GaussianNB()\n",
        "naive3.fit(X_novo_2, y)\n",
        "previsoes3 = naive3.predict(X_novo_2)\n",
        "accuracy_score(y, previsoes3)"
      ]
    },
    {
      "cell_type": "markdown",
      "metadata": {
        "id": "u_QdAYV1tSbH"
      },
      "source": [
        "## ANOVA\n",
        "\n",
        "- Compara se existe diferença (quantitativa) entre as médias (das colunas -- as variáveis) do conjunto de dados"
      ]
    },
    {
      "cell_type": "code",
      "execution_count": 39,
      "metadata": {},
      "outputs": [
        {
          "data": {
            "image/png": "[encoded data removed]",
            "text/plain": [
              "<IPython.core.display.Image object>"
            ]
          },
          "execution_count": 39,
          "metadata": {},
          "output_type": "execute_result"
        }
      ],
      "source": [
        "from IPython.display import Image\n",
        "Image('anova.png')"
      ]
    },
    {
      "cell_type": "code",
      "execution_count": 36,
      "metadata": {
        "id": "VsAara8DtUU1"
      },
      "outputs": [],
      "source": [
        "grupo_a = np.array([165, 152, 143, 140, 155])\n",
        "grupo_b = np.array([130, 169, 164, 143, 154])\n",
        "grupo_c = np.array([163, 158, 154, 149, 156])"
      ]
    },
    {
      "cell_type": "code",
      "execution_count": 37,
      "metadata": {
        "id": "8loL6zqztvtm"
      },
      "outputs": [],
      "source": [
        "from scipy.stats import f"
      ]
    },
    {
      "cell_type": "code",
      "execution_count": 38,
      "metadata": {
        "colab": {
          "base_uri": "https://localhost:8080/",
          "height": 55
        },
        "id": "B5j6C5-Ltz3W",
        "outputId": "21a16318-f4be-4f70-b0fa-f2e45c4d7446"
      },
      "outputs": [
        {
          "data": {
            "text/plain": [
              "3.8852938346523933"
            ]
          },
          "execution_count": 38,
          "metadata": {},
          "output_type": "execute_result"
        }
      ],
      "source": [
        "f.ppf(1 - 0.05, dfn = 2, dfd = 12)"
      ]
    },
    {
      "cell_type": "code",
      "execution_count": null,
      "metadata": {
        "id": "Sw_pUFo-uTX0"
      },
      "outputs": [],
      "source": [
        "from scipy.stats import f_oneway # anova"
      ]
    },
    {
      "cell_type": "code",
      "execution_count": null,
      "metadata": {
        "colab": {
          "base_uri": "https://localhost:8080/",
          "height": 55
        },
        "id": "97UFqxSNuflc",
        "outputId": "4c8283e8-6fb0-48cf-ea2d-d7c0ccdb2d32"
      },
      "outputs": [],
      "source": [
        "_, p = f_oneway(grupo_a, grupo_b, grupo_c)\n",
        "p"
      ]
    },
    {
      "cell_type": "code",
      "execution_count": null,
      "metadata": {
        "colab": {
          "base_uri": "https://localhost:8080/",
          "height": 55
        },
        "id": "DjRXn_Asu33E",
        "outputId": "f549b7b4-f55b-4ab8-ff4b-2463cd7605f4"
      },
      "outputs": [],
      "source": [
        "alpha = 0.05\n",
        "if p <= alpha:\n",
        "  print('Hipótese nula rejeitada')\n",
        "else:\n",
        "  print('Hipótese alternativa rejeitada')"
      ]
    },
    {
      "cell_type": "markdown",
      "metadata": {
        "id": "2MCMtHretal3"
      },
      "source": [
        "### Teste de Tukey\n",
        "\n",
        "- Compara se existe diferença (categórica) entre os grupos"
      ]
    },
    {
      "cell_type": "code",
      "execution_count": 40,
      "metadata": {
        "id": "O-LTnFMRtcrU"
      },
      "outputs": [],
      "source": [
        "dados = {'valores': [165, 152, 143, 140, 155, 130, 169, 164, 143, 154, 163, 158, 154, 149, 156],\n",
        "         'grupo': ['A', 'A', 'A', 'A', 'A', 'B', 'B', 'B', 'B', 'B', 'C', 'C', 'C', 'C', 'C']}"
      ]
    },
    {
      "cell_type": "code",
      "execution_count": 41,
      "metadata": {
        "id": "9vYs_K1mwYSS"
      },
      "outputs": [],
      "source": [
        "dados = {'valores': [70, 90, 80, 50, 20, 130, 169, 164, 143, 154, 163, 158, 154, 149, 156],\n",
        "         'grupo': ['A', 'A', 'A', 'A', 'A', 'B', 'B', 'B', 'B', 'B', 'C', 'C', 'C', 'C', 'C']}"
      ]
    },
    {
      "cell_type": "code",
      "execution_count": 42,
      "metadata": {
        "colab": {
          "base_uri": "https://localhost:8080/",
          "height": 544
        },
        "id": "_uUqsdB6vd2F",
        "outputId": "de40ab4b-555d-409a-cc5a-08d2b46e8278"
      },
      "outputs": [
        {
          "data": {
            "text/html": [
              "<div>\n",
              "<style scoped>\n",
              "    .dataframe tbody tr th:only-of-type {\n",
              "        vertical-align: middle;\n",
              "    }\n",
              "\n",
              "    .dataframe tbody tr th {\n",
              "        vertical-align: top;\n",
              "    }\n",
              "\n",
              "    .dataframe thead th {\n",
              "        text-align: right;\n",
              "    }\n",
              "</style>\n",
              "<table border=\"1\" class=\"dataframe\">\n",
              "  <thead>\n",
              "    <tr style=\"text-align: right;\">\n",
              "      <th></th>\n",
              "      <th>valores</th>\n",
              "      <th>grupo</th>\n",
              "    </tr>\n",
              "  </thead>\n",
              "  <tbody>\n",
              "    <tr>\n",
              "      <th>0</th>\n",
              "      <td>70</td>\n",
              "      <td>A</td>\n",
              "    </tr>\n",
              "    <tr>\n",
              "      <th>1</th>\n",
              "      <td>90</td>\n",
              "      <td>A</td>\n",
              "    </tr>\n",
              "    <tr>\n",
              "      <th>2</th>\n",
              "      <td>80</td>\n",
              "      <td>A</td>\n",
              "    </tr>\n",
              "    <tr>\n",
              "      <th>3</th>\n",
              "      <td>50</td>\n",
              "      <td>A</td>\n",
              "    </tr>\n",
              "    <tr>\n",
              "      <th>4</th>\n",
              "      <td>20</td>\n",
              "      <td>A</td>\n",
              "    </tr>\n",
              "    <tr>\n",
              "      <th>5</th>\n",
              "      <td>130</td>\n",
              "      <td>B</td>\n",
              "    </tr>\n",
              "    <tr>\n",
              "      <th>6</th>\n",
              "      <td>169</td>\n",
              "      <td>B</td>\n",
              "    </tr>\n",
              "    <tr>\n",
              "      <th>7</th>\n",
              "      <td>164</td>\n",
              "      <td>B</td>\n",
              "    </tr>\n",
              "    <tr>\n",
              "      <th>8</th>\n",
              "      <td>143</td>\n",
              "      <td>B</td>\n",
              "    </tr>\n",
              "    <tr>\n",
              "      <th>9</th>\n",
              "      <td>154</td>\n",
              "      <td>B</td>\n",
              "    </tr>\n",
              "    <tr>\n",
              "      <th>10</th>\n",
              "      <td>163</td>\n",
              "      <td>C</td>\n",
              "    </tr>\n",
              "    <tr>\n",
              "      <th>11</th>\n",
              "      <td>158</td>\n",
              "      <td>C</td>\n",
              "    </tr>\n",
              "    <tr>\n",
              "      <th>12</th>\n",
              "      <td>154</td>\n",
              "      <td>C</td>\n",
              "    </tr>\n",
              "    <tr>\n",
              "      <th>13</th>\n",
              "      <td>149</td>\n",
              "      <td>C</td>\n",
              "    </tr>\n",
              "    <tr>\n",
              "      <th>14</th>\n",
              "      <td>156</td>\n",
              "      <td>C</td>\n",
              "    </tr>\n",
              "  </tbody>\n",
              "</table>\n",
              "</div>"
            ],
            "text/plain": [
              "    valores grupo\n",
              "0        70     A\n",
              "1        90     A\n",
              "2        80     A\n",
              "3        50     A\n",
              "4        20     A\n",
              "5       130     B\n",
              "6       169     B\n",
              "7       164     B\n",
              "8       143     B\n",
              "9       154     B\n",
              "10      163     C\n",
              "11      158     C\n",
              "12      154     C\n",
              "13      149     C\n",
              "14      156     C"
            ]
          },
          "execution_count": 42,
          "metadata": {},
          "output_type": "execute_result"
        }
      ],
      "source": [
        "import pandas as pd\n",
        "dados_pd = pd.DataFrame(dados)\n",
        "dados_pd"
      ]
    },
    {
      "cell_type": "code",
      "execution_count": 43,
      "metadata": {
        "id": "YrSkP-EQvpDg"
      },
      "outputs": [],
      "source": [
        "from statsmodels.stats.multicomp import MultiComparison"
      ]
    },
    {
      "cell_type": "code",
      "execution_count": 44,
      "metadata": {
        "id": "MaRGQGC8vv88"
      },
      "outputs": [],
      "source": [
        "compara_grupos = MultiComparison(dados_pd['valores'], dados_pd['grupo'])"
      ]
    },
    {
      "cell_type": "code",
      "execution_count": 48,
      "metadata": {
        "colab": {
          "base_uri": "https://localhost:8080/",
          "height": 178
        },
        "id": "5SoHIQaNv52j",
        "outputId": "afb0b715-e416-4c31-b5c6-c0b477a3ecf8"
      },
      "outputs": [
        {
          "name": "stdout",
          "output_type": "stream",
          "text": [
            "Multiple Comparison of Means - Tukey HSD, FWER=0.05\n",
            "===================================================\n",
            "group1 group2 meandiff p-adj  lower   upper  reject\n",
            "---------------------------------------------------\n",
            "     A      B     90.0 0.001  58.494 121.506   True\n",
            "     A      C     94.0 0.001  62.494 125.506   True\n",
            "     B      C      4.0   0.9 -27.506  35.506  False\n",
            "---------------------------------------------------\n"
          ]
        }
      ],
      "source": [
        "teste = compara_grupos.tukeyhsd()\n",
        "print(teste)\n",
        "\n",
        "# H0: grupos são iguais\n",
        "# H1: grupos são diferentes\n",
        "\n",
        "# True: rejeitamos H0 (grupos são diferentes)"
      ]
    },
    {
      "cell_type": "code",
      "execution_count": 46,
      "metadata": {
        "colab": {
          "base_uri": "https://localhost:8080/",
          "height": 410
        },
        "id": "gO_LVRxawRyU",
        "outputId": "b6ef1792-0dd3-4024-ed89-b58c18a5b9a6"
      },
      "outputs": [
        {
          "data": {
            "image/png": "[encoded data removed]",
            "text/plain": [
              "<Figure size 720x432 with 1 Axes>"
            ]
          },
          "metadata": {
            "needs_background": "light"
          },
          "output_type": "display_data"
        }
      ],
      "source": [
        "teste.plot_simultaneous();"
      ]
    },
    {
      "cell_type": "markdown",
      "metadata": {
        "id": "VlvLuFGftzoX"
      },
      "source": [
        "## Resultados dos algoritmos de machine learning"
      ]
    },
    {
      "cell_type": "code",
      "execution_count": null,
      "metadata": {
        "colab": {
          "base_uri": "https://localhost:8080/",
          "height": 228
        },
        "id": "TaTxvZxQt3mX",
        "outputId": "ad5da6ea-226a-4b40-f05c-165b95f82182"
      },
      "outputs": [],
      "source": [
        "import pandas as pd\n",
        "from sklearn.naive_bayes import GaussianNB\n",
        "from sklearn.linear_model import LogisticRegression\n",
        "from sklearn.ensemble import RandomForestClassifier\n",
        "from sklearn.model_selection import cross_val_score, KFold\n",
        "dataset = pd.read_csv('credit_data.csv')\n",
        "dataset.dropna(inplace=True)\n",
        "dataset.head()"
      ]
    },
    {
      "cell_type": "code",
      "execution_count": null,
      "metadata": {
        "id": "7Kj8J4dHugLA"
      },
      "outputs": [],
      "source": [
        "X = dataset.iloc[:, 1:4].values\n",
        "y = dataset.iloc[:, 4].values"
      ]
    },
    {
      "cell_type": "code",
      "execution_count": null,
      "metadata": {
        "colab": {
          "base_uri": "https://localhost:8080/",
          "height": 55
        },
        "id": "lBKWRjRCimdp",
        "outputId": "00582034-a9fa-4024-ddf7-c6141ede1d37"
      },
      "outputs": [],
      "source": [
        "min(X[0]), max(X[0])"
      ]
    },
    {
      "cell_type": "code",
      "execution_count": null,
      "metadata": {
        "id": "69vrMWYOvpR-"
      },
      "outputs": [],
      "source": [
        "from sklearn.preprocessing import StandardScaler\n",
        "scaler = StandardScaler()\n",
        "X = scaler.fit_transform(X)"
      ]
    },
    {
      "cell_type": "code",
      "execution_count": null,
      "metadata": {
        "colab": {
          "base_uri": "https://localhost:8080/",
          "height": 55
        },
        "id": "yuj6W1H3inmO",
        "outputId": "5a0ab8b0-a03c-4dca-9cf8-4264945ba89b"
      },
      "outputs": [],
      "source": [
        "min(X[0]), max(X[0])"
      ]
    },
    {
      "cell_type": "code",
      "execution_count": null,
      "metadata": {
        "id": "NLUFz5Y1umSy"
      },
      "outputs": [],
      "source": [
        "resultados_naive_cv = []\n",
        "resultados_logistica_cv = []\n",
        "resultados_forest_cv = []\n",
        "for i in range(30):\n",
        "  kfold = KFold(n_splits = 10, shuffle = True, random_state = i)\n",
        "  \n",
        "  naive_bayes = GaussianNB()\n",
        "  scores = cross_val_score(naive_bayes, X, y, cv = kfold)\n",
        "  resultados_naive_cv.append(scores.mean())\n",
        "\n",
        "  logistica = LogisticRegression()\n",
        "  scores = cross_val_score(logistica, X, y, cv = kfold)\n",
        "  resultados_logistica_cv.append(scores.mean())  \n",
        "  \n",
        "  random_forest = RandomForestClassifier()\n",
        "  scores = cross_val_score(random_forest, X, y, cv = kfold)\n",
        "  resultados_forest_cv.append(scores.mean())\n",
        "\n",
        "resultados_naive_cv = np.array(resultados_naive_cv)\n",
        "resultados_logistica_cv = np.array(resultados_logistica_cv)\n",
        "resultados_forest_cv = np.array(resultados_forest_cv)"
      ]
    },
    {
      "cell_type": "code",
      "execution_count": null,
      "metadata": {
        "colab": {
          "base_uri": "https://localhost:8080/",
          "height": 55
        },
        "id": "NOjirklIvXoL",
        "outputId": "51327329-d416-4f09-afc0-001054b94504"
      },
      "outputs": [],
      "source": [
        "resultados_naive_cv.mean(), resultados_logistica_cv.mean(), resultados_forest_cv.mean()"
      ]
    },
    {
      "cell_type": "markdown",
      "metadata": {
        "id": "8rCe0v4fi10s"
      },
      "source": [
        "### Teste de hipótese de Shapiro-Wilk\n",
        "\n",
        "- https://en.wikipedia.org/wiki/Shapiro%E2%80%93Wilk_test"
      ]
    },
    {
      "cell_type": "code",
      "execution_count": null,
      "metadata": {
        "id": "GOZQqYWXlanI"
      },
      "outputs": [],
      "source": [
        "alpha = 0.05"
      ]
    },
    {
      "cell_type": "code",
      "execution_count": null,
      "metadata": {
        "colab": {
          "base_uri": "https://localhost:8080/",
          "height": 90
        },
        "id": "nOoajbVrl1Cq",
        "outputId": "c0580e96-23b6-412c-e16e-59fd8b44e4a4"
      },
      "outputs": [],
      "source": [
        "from scipy.stats import shapiro\n",
        "shapiro(resultados_naive_cv), shapiro(resultados_logistica_cv), shapiro(resultados_forest_cv)"
      ]
    },
    {
      "cell_type": "code",
      "execution_count": null,
      "metadata": {
        "colab": {
          "base_uri": "https://localhost:8080/",
          "height": 285
        },
        "id": "UaUuxPYmoCt8",
        "outputId": "36e83f96-06e4-4e6b-93ad-d414fea859a2"
      },
      "outputs": [],
      "source": [
        "import seaborn as sns\n",
        "sns.distplot(resultados_naive_cv);"
      ]
    },
    {
      "cell_type": "code",
      "execution_count": null,
      "metadata": {
        "colab": {
          "base_uri": "https://localhost:8080/",
          "height": 285
        },
        "id": "LTbfMOFSoKH1",
        "outputId": "faa11042-e67b-4bea-a470-51fcc2c86189"
      },
      "outputs": [],
      "source": [
        "sns.distplot(resultados_logistica_cv);"
      ]
    },
    {
      "cell_type": "code",
      "execution_count": null,
      "metadata": {
        "colab": {
          "base_uri": "https://localhost:8080/",
          "height": 285
        },
        "id": "7KEN8VRyoWcz",
        "outputId": "f981410d-862f-4926-8cf0-1eb458ba1463"
      },
      "outputs": [],
      "source": [
        "sns.distplot(resultados_forest_cv);"
      ]
    },
    {
      "cell_type": "markdown",
      "metadata": {
        "id": "MYo_sPTti2se"
      },
      "source": [
        "### Teste de hipótese de D'Agostinho K^2\n",
        "\n",
        "- https://en.wikipedia.org/wiki/D%27Agostino%27s_K-squared_test"
      ]
    },
    {
      "cell_type": "code",
      "execution_count": null,
      "metadata": {
        "colab": {
          "base_uri": "https://localhost:8080/",
          "height": 90
        },
        "id": "lJrpUI5eo2vT",
        "outputId": "380de4e7-2471-4aba-bb02-4062f206ed66"
      },
      "outputs": [],
      "source": [
        "from scipy.stats import normaltest\n",
        "normaltest(resultados_naive_cv), normaltest(resultados_logistica_cv), normaltest(resultados_forest_cv)"
      ]
    },
    {
      "cell_type": "markdown",
      "metadata": {
        "id": "LCQYneAmi-yy"
      },
      "source": [
        "### Teste de hipótese de Anderson-Darling\n",
        "\n",
        "- https://en.wikipedia.org/wiki/Anderson%E2%80%93Darling_test"
      ]
    },
    {
      "cell_type": "code",
      "execution_count": null,
      "metadata": {
        "colab": {
          "base_uri": "https://localhost:8080/",
          "height": 55
        },
        "id": "sdXs8I9DpK75",
        "outputId": "0c2f3329-6b19-4cfc-e54d-8873916ae44d"
      },
      "outputs": [],
      "source": [
        "from scipy.stats import anderson\n",
        "anderson(resultados_naive_cv).statistic, anderson(resultados_logistica_cv).statistic, anderson(resultados_forest_cv).statistic"
      ]
    },
    {
      "cell_type": "markdown",
      "metadata": {
        "id": "ACk3dMvszWMw"
      },
      "source": [
        "### Testes não paramétricos\n",
        "\n",
        "- https://www.statisticshowto.com/parametric-and-non-parametric-data/#:~:text=Nonparametric%20tests%20can%20perform%20well,20%20items%20in%20each%20group).\n",
        "\n",
        "If at all possible, you should us parametric tests, as they tend to be more accurate. Parametric tests have greater statistical power, which means they are likely to find a true significant effect. Use nonparametric tests only if you have to (i.e. you know that assumptions like normality are being violated). Nonparametric tests can perform well with non-normal continuous data if you have a sufficiently large sample size (generally 15-20 items in each group)."
      ]
    },
    {
      "cell_type": "markdown",
      "metadata": {
        "id": "qb8DEUMc3c87"
      },
      "source": [
        "### Teste de Wilcoxon Signed-Rank\n",
        "\n",
        "- https://en.wikipedia.org/wiki/Wilcoxon_signed-rank_test"
      ]
    },
    {
      "cell_type": "code",
      "execution_count": null,
      "metadata": {
        "id": "59bsj5xF7jQK"
      },
      "outputs": [],
      "source": [
        "alpha = 0.05"
      ]
    },
    {
      "cell_type": "code",
      "execution_count": null,
      "metadata": {
        "colab": {
          "base_uri": "https://localhost:8080/",
          "height": 55
        },
        "id": "_w42NArT7uMz",
        "outputId": "b923808e-8c46-42cd-f6d7-94af296f95cf"
      },
      "outputs": [],
      "source": [
        "from scipy.stats import wilcoxon\n",
        "_, p = wilcoxon(resultados_naive_cv, resultados_logistica_cv)\n",
        "p"
      ]
    },
    {
      "cell_type": "code",
      "execution_count": null,
      "metadata": {
        "colab": {
          "base_uri": "https://localhost:8080/",
          "height": 55
        },
        "id": "i6BnQbov7-ne",
        "outputId": "4f627139-2651-48c4-ec83-7e6c03c89631"
      },
      "outputs": [],
      "source": [
        "_, p = wilcoxon(resultados_naive_cv, resultados_forest_cv)\n",
        "p"
      ]
    },
    {
      "cell_type": "code",
      "execution_count": null,
      "metadata": {
        "colab": {
          "base_uri": "https://localhost:8080/",
          "height": 55
        },
        "id": "QNqsPx9d8I7k",
        "outputId": "bcf3d8c7-ab58-4906-fd80-67f09d437b51"
      },
      "outputs": [],
      "source": [
        "_, p = wilcoxon(resultados_logistica_cv, resultados_forest_cv)\n",
        "p"
      ]
    },
    {
      "cell_type": "markdown",
      "metadata": {
        "id": "qGxpe2bX3f1V"
      },
      "source": [
        "### Teste de Friedman\n",
        "\n",
        "- https://en.wikipedia.org/wiki/Friedman_test\n",
        "- Teste de Nemenyi: https://en.wikipedia.org/wiki/Nemenyi_test"
      ]
    },
    {
      "cell_type": "code",
      "execution_count": null,
      "metadata": {
        "id": "d7GKxH4i8gRR"
      },
      "outputs": [],
      "source": [
        "from scipy.stats import friedmanchisquare"
      ]
    },
    {
      "cell_type": "code",
      "execution_count": null,
      "metadata": {
        "colab": {
          "base_uri": "https://localhost:8080/",
          "height": 55
        },
        "id": "QkhXI-Xi8llF",
        "outputId": "76a9adef-b36c-438c-b5ac-d61776026f57"
      },
      "outputs": [],
      "source": [
        "_, p = friedmanchisquare(resultados_naive_cv, resultados_logistica_cv, resultados_forest_cv)\n",
        "p"
      ]
    },
    {
      "cell_type": "markdown",
      "metadata": {
        "id": "IDGYm_u89P61"
      },
      "source": [
        "## ANOVA e Tukey - algoritmos"
      ]
    },
    {
      "cell_type": "code",
      "execution_count": null,
      "metadata": {
        "id": "AWZy5oww9riI"
      },
      "outputs": [],
      "source": [
        "from scipy.stats import f_oneway"
      ]
    },
    {
      "cell_type": "code",
      "execution_count": null,
      "metadata": {
        "colab": {
          "base_uri": "https://localhost:8080/",
          "height": 55
        },
        "id": "tw-fKXMb9taa",
        "outputId": "ea25ce9d-e7af-4dbc-fdb4-01c282a9adc2"
      },
      "outputs": [],
      "source": [
        "_, p = f_oneway(resultados_naive_cv, resultados_logistica_cv, resultados_forest_cv)\n",
        "p"
      ]
    },
    {
      "cell_type": "code",
      "execution_count": null,
      "metadata": {
        "colab": {
          "base_uri": "https://localhost:8080/",
          "height": 55
        },
        "id": "TjyfGviS9yWi",
        "outputId": "f119d635-d1ed-4bcc-8ec8-09353b178737"
      },
      "outputs": [],
      "source": [
        "alpha = 0.05\n",
        "if p <= alpha:\n",
        "  print('Hipótese nula rejeitada. Dados são diferentes')\n",
        "else:\n",
        "  print('Hipótese alternativa rejeitada')"
      ]
    },
    {
      "cell_type": "code",
      "execution_count": null,
      "metadata": {
        "id": "fXNdBr5r9WTW"
      },
      "outputs": [],
      "source": [
        "resultados_algoritmos = {'accuracy': np.concatenate([resultados_naive_cv, resultados_logistica_cv, resultados_forest_cv]),\n",
        "                         'algoritmo': ['naive', 'naive','naive','naive','naive','naive','naive','naive','naive','naive',\n",
        "                                       'naive', 'naive','naive','naive','naive','naive','naive','naive','naive','naive',\n",
        "                                       'naive', 'naive','naive','naive','naive','naive','naive','naive','naive','naive',\n",
        "                                       'logistic','logistic','logistic','logistic','logistic','logistic','logistic','logistic','logistic','logistic',\n",
        "                                       'logistic','logistic','logistic','logistic','logistic','logistic','logistic','logistic','logistic','logistic',\n",
        "                                       'logistic','logistic','logistic','logistic','logistic','logistic','logistic','logistic','logistic','logistic',\n",
        "                                       'forest','forest','forest','forest','forest','forest','forest','forest','forest','forest',\n",
        "                                       'forest','forest','forest','forest','forest','forest','forest','forest','forest','forest',\n",
        "                                       'forest','forest','forest','forest','forest','forest','forest','forest','forest','forest']}"
      ]
    },
    {
      "cell_type": "code",
      "execution_count": null,
      "metadata": {
        "colab": {
          "base_uri": "https://localhost:8080/",
          "height": 447
        },
        "id": "i-DowvGw9mHd",
        "outputId": "9412852e-0ef5-46be-f3cd-8f81feb9f203"
      },
      "outputs": [],
      "source": [
        "import pandas as pd\n",
        "resultados_df = pd.DataFrame(resultados_algoritmos)\n",
        "resultados_df"
      ]
    },
    {
      "cell_type": "code",
      "execution_count": null,
      "metadata": {
        "id": "4CajsOQO92fX"
      },
      "outputs": [],
      "source": [
        "from statsmodels.stats.multicomp import MultiComparison"
      ]
    },
    {
      "cell_type": "code",
      "execution_count": null,
      "metadata": {
        "id": "JfaElBYP94aX"
      },
      "outputs": [],
      "source": [
        "compara_grupos = MultiComparison(resultados_df['accuracy'], resultados_df['algoritmo'])"
      ]
    },
    {
      "cell_type": "code",
      "execution_count": null,
      "metadata": {
        "colab": {
          "base_uri": "https://localhost:8080/",
          "height": 178
        },
        "id": "Y611E8jN96mW",
        "outputId": "7b19fa43-14a6-4e1a-a095-513e4b194bf7"
      },
      "outputs": [],
      "source": [
        "teste = compara_grupos.tukeyhsd()\n",
        "print(teste)"
      ]
    },
    {
      "cell_type": "code",
      "execution_count": null,
      "metadata": {
        "colab": {
          "base_uri": "https://localhost:8080/",
          "height": 410
        },
        "id": "JRQGtEtJ98J-",
        "outputId": "f59a3271-a383-46c2-e0d0-3d30aa6c0568"
      },
      "outputs": [],
      "source": [
        "teste.plot_simultaneous();"
      ]
    },
    {
      "cell_type": "markdown",
      "metadata": {
        "id": "bliM1DMYDdy6"
      },
      "source": [
        "## Geração do arquivo com os resultados para o teste de Nemenyi"
      ]
    },
    {
      "cell_type": "code",
      "execution_count": null,
      "metadata": {
        "id": "CGsI2gmMDh_s"
      },
      "outputs": [],
      "source": [
        "resultados_algoritmos = {'naive_bayes': resultados_naive_cv,\n",
        "                         'logistica': resultados_logistica_cv,\n",
        "                         'random_forest': resultados_forest_cv}"
      ]
    },
    {
      "cell_type": "code",
      "execution_count": null,
      "metadata": {
        "colab": {
          "base_uri": "https://localhost:8080/",
          "height": 1000
        },
        "id": "xCJ62RKtDwT-",
        "outputId": "3f3bca84-4974-4f9b-8014-426578263cd5"
      },
      "outputs": [],
      "source": [
        "resultados_df = pd.DataFrame(resultados_algoritmos)\n",
        "resultados_df"
      ]
    },
    {
      "cell_type": "code",
      "execution_count": null,
      "metadata": {
        "id": "8IK7w4s_D4Tb"
      },
      "outputs": [],
      "source": [
        "resultados_df.to_excel('resultados_excel.xlsx', sheet_name='resultados')"
      ]
    },
    {
      "cell_type": "markdown",
      "metadata": {
        "id": "HOuF6CNyJiAm"
      },
      "source": [
        "## Dados não normais"
      ]
    },
    {
      "cell_type": "code",
      "execution_count": null,
      "metadata": {
        "colab": {
          "base_uri": "https://localhost:8080/",
          "height": 228
        },
        "id": "G4OM38JrJjqk",
        "outputId": "b21446b3-096c-449d-a1b4-2e7e2f4bd2d8"
      },
      "outputs": [],
      "source": [
        "import pandas as pd\n",
        "dataset = pd.read_csv('trip_d1_d2.csv', sep = ';')\n",
        "dataset.head()"
      ]
    },
    {
      "cell_type": "code",
      "execution_count": null,
      "metadata": {
        "colab": {
          "base_uri": "https://localhost:8080/",
          "height": 299
        },
        "id": "IZvywv0qKvdJ",
        "outputId": "71f00f16-8189-4704-e5ab-45aedf9c7a9b"
      },
      "outputs": [],
      "source": [
        "import seaborn as sns\n",
        "sns.distplot(dataset['D1']);"
      ]
    },
    {
      "cell_type": "code",
      "execution_count": null,
      "metadata": {
        "colab": {
          "base_uri": "https://localhost:8080/",
          "height": 299
        },
        "id": "z1a6Sx7QK_pe",
        "outputId": "bf384552-ae0b-4c20-f3a4-96a94fee8a48"
      },
      "outputs": [],
      "source": [
        "sns.distplot(dataset['D2']);"
      ]
    },
    {
      "cell_type": "code",
      "execution_count": null,
      "metadata": {
        "id": "lRc1SRqyLGpQ"
      },
      "outputs": [],
      "source": [
        "print(dataset['D2'])"
      ]
    },
    {
      "cell_type": "code",
      "execution_count": null,
      "metadata": {
        "colab": {
          "base_uri": "https://localhost:8080/",
          "height": 72
        },
        "id": "tqA-NGawLU-J",
        "outputId": "88b98176-7418-4f5d-9ff4-9a3b9cb470da"
      },
      "outputs": [],
      "source": [
        "alpha = 0.05\n",
        "from scipy.stats import shapiro\n",
        "shapiro(dataset['D1']), shapiro(dataset['D2'])"
      ]
    },
    {
      "cell_type": "code",
      "execution_count": null,
      "metadata": {
        "id": "V-viMmmgL64N"
      },
      "outputs": [],
      "source": [
        "from scipy.stats import friedmanchisquare\n",
        "_, p = friedmanchisquare(dataset['D1'], dataset['D2'])\n",
        "p"
      ]
    },
    {
      "cell_type": "code",
      "execution_count": null,
      "metadata": {
        "colab": {
          "base_uri": "https://localhost:8080/",
          "height": 55
        },
        "id": "avA0ORiZMOjR",
        "outputId": "b011dfd1-a78d-4733-e717-196634a139c3"
      },
      "outputs": [],
      "source": [
        "from scipy.stats import wilcoxon\n",
        "_, p = wilcoxon(dataset['D1'], dataset['D2'])\n",
        "p"
      ]
    },
    {
      "cell_type": "code",
      "execution_count": null,
      "metadata": {
        "colab": {
          "base_uri": "https://localhost:8080/",
          "height": 55
        },
        "id": "jqVG1CpaMcEA",
        "outputId": "4a4c9cba-7e25-40a7-9862-b8975cd5ede5"
      },
      "outputs": [],
      "source": [
        "dataset['D1'].mean(), dataset['D2'].mean()"
      ]
    }
  ],
  "metadata": {
    "colab": {
      "include_colab_link": true,
      "name": "Cópia de Testes de hipóteses.ipynb",
      "provenance": []
    },
    "kernelspec": {
      "display_name": "Python 3",
      "name": "python3"
    },
    "language_info": {
      "codemirror_mode": {
        "name": "ipython",
        "version": 3
      },
      "file_extension": ".py",
      "mimetype": "text/x-python",
      "name": "python",
      "nbconvert_exporter": "python",
      "pygments_lexer": "ipython3",
      "version": "3.9.7"
    }
  },
  "nbformat": 4,
  "nbformat_minor": 0
}
